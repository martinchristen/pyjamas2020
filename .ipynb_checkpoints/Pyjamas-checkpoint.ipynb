{
 "cells": [
  {
   "cell_type": "markdown",
   "metadata": {},
   "source": [
    "<img src=\"https://pyjamas.live/img/organizers/pyjamas-name.png\"/>\n",
    "\n",
    "\n",
    "## Geoprocessing with Python\n",
    "\n",
    "Prof. Martin Christen<br/>\n",
    "mailto:martin.christen@fhnw.ch<br/>\n",
    "Twitter: @MartinChristen<br/>\n",
    "LinkedIn: https://www.linkedin.com/in/martinchristen/"
   ]
  },
  {
   "cell_type": "markdown",
   "metadata": {},
   "source": [
    "### GitHub\n",
    "\n",
    "This notebook is available at: https://github.com/martinchristen/pyjamas2020"
   ]
  },
  {
   "cell_type": "markdown",
   "metadata": {},
   "source": [
    "## 1. Installation of required Modules\n",
    "\n",
    "(This tutorial requires anaconda, if you don't have it yet, download it here: https://www.anaconda.com/download/ ).\n",
    "\n",
    "If you try without anaconda: good luck!\n",
    "\n",
    "**This notebook requires Python 3.7**\n",
    "\n",
    "### Installing Modules (conda)\n",
    "\n",
    "Install the main modules using conda, dependencies will be resolved (gdal etc.)\n",
    "\n",
    "    \n",
    "    conda create --name pyjamas python=3.7 jupyterlab -y\n",
    "    conda activate pyjamas\n",
    "    conda install matplotlib -y\n",
    "    conda install shapely -y\n",
    "    conda install fiona -y\n",
    "    conda install rasterio -y\n",
    "    conda install geopandas -y\n",
    "    conda install folium -c conda-forge -y\n",
    "    conda install descartes"
   ]
  },
  {
   "cell_type": "markdown",
   "metadata": {},
   "source": [
    "### 2. Introduction to Shapely\n",
    "\n",
    "https://shapely.readthedocs.io/en/stable/manual.html\n",
    "\n",
    "![Features](img/Features.png)\n",
    "\n",
    "Shapely supports the following Features:\n",
    "\n",
    "* Point\n",
    "* LineString\n",
    "* LinearRing          \n",
    "* Polygon\n",
    "* MultiLineString\n",
    "* MultiPoint\n",
    "* MultiPolygon"
   ]
  },
  {
   "cell_type": "markdown",
   "metadata": {},
   "source": [
    "Let's construct a Hexagon"
   ]
  },
  {
   "cell_type": "code",
   "execution_count": null,
   "metadata": {},
   "outputs": [],
   "source": [
    "import math\n",
    "\n",
    "radius = 10\n",
    "coords = []\n",
    "for i in range(0,6):\n",
    "    angle = i*60*math.pi/180\n",
    "    coords.append((radius * math.cos(angle), radius*math.sin(angle)))\n",
    "coords\n",
    "    "
   ]
  },
  {
   "cell_type": "markdown",
   "metadata": {},
   "source": [
    "Definition for Polygons: first and last point must be same\n",
    "\n",
    "So let's add it"
   ]
  },
  {
   "cell_type": "code",
   "execution_count": null,
   "metadata": {},
   "outputs": [],
   "source": [
    "# First and last point must be same in polygon\n",
    "coords.append(coords[0])"
   ]
  },
  {
   "cell_type": "code",
   "execution_count": null,
   "metadata": {},
   "outputs": [],
   "source": [
    "coords"
   ]
  },
  {
   "cell_type": "code",
   "execution_count": null,
   "metadata": {},
   "outputs": [],
   "source": [
    "from shapely.geometry import Polygon"
   ]
  },
  {
   "cell_type": "code",
   "execution_count": null,
   "metadata": {},
   "outputs": [],
   "source": [
    "hexagon = Polygon(coords)"
   ]
  },
  {
   "cell_type": "code",
   "execution_count": null,
   "metadata": {},
   "outputs": [],
   "source": [
    "hexagon"
   ]
  },
  {
   "cell_type": "code",
   "execution_count": null,
   "metadata": {},
   "outputs": [],
   "source": [
    "hexagon.length"
   ]
  },
  {
   "cell_type": "code",
   "execution_count": null,
   "metadata": {},
   "outputs": [],
   "source": [
    "hexagon.area"
   ]
  },
  {
   "cell_type": "markdown",
   "metadata": {},
   "source": [
    "Let's create another Polygon, this time a triangle"
   ]
  },
  {
   "cell_type": "code",
   "execution_count": null,
   "metadata": {},
   "outputs": [],
   "source": [
    "triangle = Polygon([(-5,0),(0,6),(5,0),(-5,0)])"
   ]
  },
  {
   "cell_type": "code",
   "execution_count": null,
   "metadata": {},
   "outputs": [],
   "source": [
    "triangle  # note: this output is scaled"
   ]
  },
  {
   "cell_type": "markdown",
   "metadata": {},
   "source": [
    "We can plot the exerior using matplotlib:"
   ]
  },
  {
   "cell_type": "code",
   "execution_count": null,
   "metadata": {},
   "outputs": [],
   "source": [
    "import matplotlib.pyplot as plt\n",
    "\n",
    "x1,y1 = hexagon.exterior.xy\n",
    "x2,y2 = triangle.exterior.xy\n",
    "plt.plot(x1,y1, 'r')\n",
    "plt.plot(x2,y2, 'b')\n",
    "plt.axis(\"equal\");"
   ]
  },
  {
   "cell_type": "code",
   "execution_count": null,
   "metadata": {},
   "outputs": [],
   "source": [
    "hexagon.difference(triangle)"
   ]
  },
  {
   "cell_type": "markdown",
   "metadata": {},
   "source": [
    "We can do:\n",
    "   * intersection\n",
    "   * union\n",
    "   * difference\n",
    "   * symmetric_difference"
   ]
  },
  {
   "cell_type": "markdown",
   "metadata": {},
   "source": [
    "Let's move the triangle to test this"
   ]
  },
  {
   "cell_type": "code",
   "execution_count": null,
   "metadata": {},
   "outputs": [],
   "source": [
    "triangle = Polygon([(5,0),(10,6),(15,0),(5,0)])"
   ]
  },
  {
   "cell_type": "code",
   "execution_count": null,
   "metadata": {},
   "outputs": [],
   "source": [
    "hexagon.difference(triangle)"
   ]
  },
  {
   "cell_type": "code",
   "execution_count": null,
   "metadata": {},
   "outputs": [],
   "source": [
    "#intersection\n",
    "hexagon.intersection(triangle)"
   ]
  },
  {
   "cell_type": "code",
   "execution_count": null,
   "metadata": {},
   "outputs": [],
   "source": [
    "hexagon.union(triangle)"
   ]
  },
  {
   "cell_type": "code",
   "execution_count": null,
   "metadata": {},
   "outputs": [],
   "source": [
    "hexagon.symmetric_difference(triangle)  # \"xor\""
   ]
  },
  {
   "cell_type": "markdown",
   "metadata": {},
   "source": [
    "### Binary operations on shapes:\n",
    "\n",
    "- **contains** (Returns True if the interior of the object intersects the interior of the other but does not contain it, and the dimension of the intersection is less than the dimension of the one or the other.)\n",
    "- **intersects** (Returns True if the boundary and interior of the object intersect in any way with those of the other.)\n",
    "- **witin** (Returns True if the object’s boundary and interior intersect only with the interior of the other (not its boundary or exterior).\n",
    "- **touches** (Returns True if the objects have at least one point in common and their interiors do not intersect with any part of the other.)\n",
    "- **crosses** (Returns True if the interior of the object intersects the interior of the other but does not contain it, and the dimension of the intersection is less than the dimension of the one or the other.)\n",
    "- **equals** (Returns True if the set-theoretic boundary, interior, and exterior of the object coincide with those of the other.)"
   ]
  },
  {
   "cell_type": "code",
   "execution_count": null,
   "metadata": {},
   "outputs": [],
   "source": [
    "triangle.intersects(hexagon)"
   ]
  },
  {
   "cell_type": "markdown",
   "metadata": {},
   "source": [
    "### Other operations\n",
    "\n",
    "https://shapely.readthedocs.io/en/stable/manual.html\n",
    "\n",
    "#### Delaunay triangulation"
   ]
  },
  {
   "cell_type": "code",
   "execution_count": null,
   "metadata": {},
   "outputs": [],
   "source": [
    "from shapely.ops import triangulate\n",
    "\n",
    "t = triangulate(hexagon, tolerance=0.0, edges=False)\n",
    "# edges=False: return Polygon (otherwise LineString)"
   ]
  },
  {
   "cell_type": "code",
   "execution_count": null,
   "metadata": {},
   "outputs": [],
   "source": [
    "t"
   ]
  },
  {
   "cell_type": "code",
   "execution_count": null,
   "metadata": {},
   "outputs": [],
   "source": [
    "import matplotlib.pyplot as plt\n",
    "\n",
    "for i in range(0,len(t)):\n",
    "    x,y = t[i].exterior.xy\n",
    "    plt.plot(x,y)\n",
    "\n",
    "plt.axis(\"equal\");"
   ]
  },
  {
   "cell_type": "code",
   "execution_count": null,
   "metadata": {},
   "outputs": [],
   "source": [
    "import matplotlib.pyplot as plt\n",
    "\n",
    "x,y = hexagon.exterior.xy\n",
    "plt.plot(x,y)\n",
    "plt.axis(\"equal\");"
   ]
  },
  {
   "cell_type": "code",
   "execution_count": null,
   "metadata": {},
   "outputs": [],
   "source": [
    "from shapely.geometry import mapping\n",
    "\n",
    "\n",
    "geojson = mapping(hexagon)"
   ]
  },
  {
   "cell_type": "code",
   "execution_count": null,
   "metadata": {},
   "outputs": [],
   "source": [
    "geojson"
   ]
  },
  {
   "cell_type": "markdown",
   "metadata": {},
   "source": [
    "Now load a polygon and draw it on map"
   ]
  },
  {
   "cell_type": "markdown",
   "metadata": {},
   "source": [
    "## 2. Getting Started with Folium"
   ]
  },
  {
   "cell_type": "code",
   "execution_count": null,
   "metadata": {},
   "outputs": [],
   "source": []
  },
  {
   "cell_type": "code",
   "execution_count": null,
   "metadata": {},
   "outputs": [],
   "source": [
    "import folium\n",
    "\n",
    "m = folium.Map(location=[47.570333604, 7.59348379], zoom_start=16)\n",
    "m"
   ]
  },
  {
   "cell_type": "markdown",
   "metadata": {},
   "source": [
    "### Polygon on Map\n",
    "\n",
    "Now display this Polygon on the folium map:"
   ]
  },
  {
   "cell_type": "code",
   "execution_count": null,
   "metadata": {},
   "outputs": [],
   "source": [
    "import folium\n",
    "\n",
    "map_ch = folium.Map(location=[0, 0], zoom_start=3)  \n",
    "folium.GeoJson(geojson).add_to(map_ch)\n",
    "map_ch"
   ]
  },
  {
   "cell_type": "markdown",
   "metadata": {},
   "source": [
    "Geographic Coordinates\n",
    "\n",
    "![Coords](img/longitude.gif)"
   ]
  },
  {
   "cell_type": "markdown",
   "metadata": {},
   "source": [
    "## 2. GeoPandas"
   ]
  },
  {
   "cell_type": "code",
   "execution_count": null,
   "metadata": {},
   "outputs": [],
   "source": [
    "import pandas as pd\n",
    "\n",
    "df = pd.read_csv('data/cities5k.csv', encoding=\"utf-8\", sep=\",\", header=None, low_memory=False)\n",
    "df.head(3)"
   ]
  },
  {
   "cell_type": "markdown",
   "metadata": {},
   "source": [
    "### Removing Columns for Demo...\n",
    "\n",
    "We really have too many columns, to make everything easier, I just reduce to the most important ones and give some column names.\n",
    "This is all standard pandas..."
   ]
  },
  {
   "cell_type": "code",
   "execution_count": null,
   "metadata": {},
   "outputs": [],
   "source": [
    "df2 = df[[1,4,5,7,14]]\n",
    "df2.columns = [\"name\", \"lat\", \"lng\", \"type\", \"population\"]\n",
    "df2.head()"
   ]
  },
  {
   "cell_type": "code",
   "execution_count": null,
   "metadata": {},
   "outputs": [],
   "source": [
    "df2.query(\"name == 'Paris'\")"
   ]
  },
  {
   "cell_type": "markdown",
   "metadata": {},
   "source": [
    "Remove sections, see https://www.geonames.org/export/codes.html for more details"
   ]
  },
  {
   "cell_type": "code",
   "execution_count": null,
   "metadata": {},
   "outputs": [],
   "source": [
    "df2 = df2[df2.type != 'PPLX']\n",
    "df2.head()"
   ]
  },
  {
   "cell_type": "markdown",
   "metadata": {},
   "source": [
    "### Creating a GeoPandas Data Frame\n",
    "\n",
    "We simply need a geometry column with a shaply geometry..."
   ]
  },
  {
   "cell_type": "code",
   "execution_count": null,
   "metadata": {},
   "outputs": [],
   "source": [
    "import geopandas as gpd\n",
    "from shapely.geometry import Point\n",
    "\n",
    "geometry = [Point(pos) for pos in zip(df2['lng'], df2['lat'])]\n",
    "gdf = gpd.GeoDataFrame(df2, geometry=geometry)\n",
    "\n",
    "gdf.head()"
   ]
  },
  {
   "cell_type": "markdown",
   "metadata": {},
   "source": [
    "We can remove the columns \"lat\" and \"lng\", it is redundant. "
   ]
  },
  {
   "cell_type": "code",
   "execution_count": null,
   "metadata": {},
   "outputs": [],
   "source": [
    "gdf = gdf.drop(['lat', 'lng'], axis=1)"
   ]
  },
  {
   "cell_type": "code",
   "execution_count": null,
   "metadata": {},
   "outputs": [],
   "source": [
    "%matplotlib inline\n",
    "gdf.plot(color='green', markersize=15, figsize=(15,9));"
   ]
  },
  {
   "cell_type": "code",
   "execution_count": null,
   "metadata": {},
   "outputs": [],
   "source": [
    "from shapely.geometry import Point\n",
    "\n",
    "PyConLT = Point([25.287379, 54.716769])\n",
    "\n",
    "dist = gdf.distance(PyConLT)"
   ]
  },
  {
   "cell_type": "code",
   "execution_count": null,
   "metadata": {},
   "outputs": [],
   "source": [
    "gdf_new = gdf.copy()\n",
    "gdf_new[\"distance\"] = dist"
   ]
  },
  {
   "cell_type": "code",
   "execution_count": null,
   "metadata": {},
   "outputs": [],
   "source": [
    "s = gdf_new.sort_values([\"distance\"], ascending=True)\n",
    "s.head(10)"
   ]
  },
  {
   "cell_type": "code",
   "execution_count": null,
   "metadata": {},
   "outputs": [],
   "source": [
    "gdf_new = gdf.copy()\n",
    "lt_mask = gdf_new.within(lithuania)"
   ]
  },
  {
   "cell_type": "code",
   "execution_count": null,
   "metadata": {},
   "outputs": [],
   "source": [
    "lt_cities = gdf_new[lt_mask]"
   ]
  },
  {
   "cell_type": "code",
   "execution_count": null,
   "metadata": {},
   "outputs": [],
   "source": [
    "lt_cities[lt_cities.population > 20000]"
   ]
  },
  {
   "cell_type": "markdown",
   "metadata": {},
   "source": [
    "### Now display cities on a folium map using markers"
   ]
  },
  {
   "cell_type": "code",
   "execution_count": null,
   "metadata": {},
   "outputs": [],
   "source": [
    "import folium\n",
    "\n",
    "map_cities = folium.Map(location=[54.716769, 25.287379], zoom_start=7)\n",
    "\n",
    "def create_marker(row):\n",
    "    lng = row[\"geometry\"].x\n",
    "    lat = row[\"geometry\"].y\n",
    "    name = row[\"name\"]\n",
    "    population = str(int(row[\"population\"]))\n",
    "    folium.Marker([lat, lng], popup=f'{name}, population:{population}').add_to(map_cities)\n",
    "    \n",
    "lt_cities.apply(create_marker, axis=1)\n",
    "map_cities\n"
   ]
  },
  {
   "cell_type": "markdown",
   "metadata": {},
   "source": [
    "### 3. Live Data & GeoPandas\n",
    "\n",
    "We're looking at the earthquake data from USGS:\n",
    "https://earthquake.usgs.gov/earthquakes/feed/v1.0/geojson.php\n",
    "\n",
    "This data is updated every minute"
   ]
  },
  {
   "cell_type": "code",
   "execution_count": null,
   "metadata": {},
   "outputs": [],
   "source": [
    "import requests\n",
    "\n",
    "url = \"https://earthquake.usgs.gov/earthquakes/feed/v1.0/summary/2.5_week.geojson\"\n",
    "#url = \"https://earthquake.usgs.gov/earthquakes/feed/v1.0/summary/significant_month.geojson\"\n",
    "#url = \"https://earthquake.usgs.gov/earthquakes/feed/v1.0/summary/2.5_month.geojson\"\n",
    "\n",
    "data = requests.get(url)\n",
    "file = open(\"earthquakes.geojson\",\"wb\")\n",
    "file.write(data.content)\n",
    "file.close()"
   ]
  },
  {
   "cell_type": "code",
   "execution_count": null,
   "metadata": {},
   "outputs": [],
   "source": [
    "import geopandas as gpd\n",
    "\n",
    "eq_gdf = gpd.read_file(\"earthquakes.geojson\")\n",
    "eq_gdf.head()"
   ]
  },
  {
   "cell_type": "markdown",
   "metadata": {},
   "source": [
    "Let's simplify the output and only take most important rows"
   ]
  },
  {
   "cell_type": "code",
   "execution_count": null,
   "metadata": {},
   "outputs": [],
   "source": [
    "eq = eq_gdf[[\"time\",\"mag\", \"place\",\"geometry\"]].copy()\n",
    "eq.head()"
   ]
  },
  {
   "cell_type": "markdown",
   "metadata": {},
   "source": [
    "Look at the histogramm:"
   ]
  },
  {
   "cell_type": "code",
   "execution_count": null,
   "metadata": {},
   "outputs": [],
   "source": [
    "eq.mag.hist(bins=16);"
   ]
  },
  {
   "cell_type": "markdown",
   "metadata": {},
   "source": [
    "Timestamps in UTC are not really human readable...\n",
    "Let's convert them"
   ]
  },
  {
   "cell_type": "code",
   "execution_count": null,
   "metadata": {},
   "outputs": [],
   "source": [
    "from datetime import datetime, timezone\n",
    "\n",
    "data = []\n",
    "for row in range(0,len(eq)):\n",
    "    time = eq.iloc[row].time\n",
    "    t = str(datetime.fromtimestamp(time/1000.0, timezone.utc))\n",
    "    data.append(t)\n",
    "    \n",
    "eq[\"time_utc\"] = data\n",
    "eq.head()"
   ]
  },
  {
   "cell_type": "code",
   "execution_count": null,
   "metadata": {},
   "outputs": [],
   "source": [
    "eq = eq.drop(['time'], axis=1)"
   ]
  },
  {
   "cell_type": "code",
   "execution_count": null,
   "metadata": {},
   "outputs": [],
   "source": [
    "eq.plot();"
   ]
  },
  {
   "cell_type": "markdown",
   "metadata": {},
   "source": [
    "Open Natural Earth Dataset with all Polygons of all countries"
   ]
  },
  {
   "cell_type": "code",
   "execution_count": null,
   "metadata": {},
   "outputs": [],
   "source": [
    "gdfAdmin0 = gpd.read_file(\"data/ne_10m_admin_0_countries/ne_10m_admin_0_countries.shp\", encoding=\"utf-8\")\n",
    "gdfAdmin0.head()"
   ]
  },
  {
   "cell_type": "code",
   "execution_count": null,
   "metadata": {},
   "outputs": [],
   "source": [
    "countries = gdfAdmin0.plot(figsize=(15,9), color=\"black\")\n",
    "eq.plot(ax=countries, color=\"red\", markersize=10);"
   ]
  },
  {
   "cell_type": "code",
   "execution_count": null,
   "metadata": {},
   "outputs": [],
   "source": [
    "eq.sort_values([\"mag\"], ascending=False).head()"
   ]
  },
  {
   "cell_type": "markdown",
   "metadata": {},
   "source": [
    "### 4. More GeoPandas Fun"
   ]
  },
  {
   "cell_type": "code",
   "execution_count": null,
   "metadata": {},
   "outputs": [],
   "source": [
    "import geopandas as gpd\n",
    "\n",
    "gdfAdmin0 = gpd.read_file(\"data/ne_10m_admin_0_countries/ne_10m_admin_0_countries.shp\", encoding=\"utf-8\")\n",
    "gdfAdmin0.head()\n",
    "\n",
    "ch = gdfAdmin0[gdfAdmin0['NAME'] == \"Switzerland\"]\n",
    "ch"
   ]
  },
  {
   "cell_type": "code",
   "execution_count": null,
   "metadata": {},
   "outputs": [],
   "source": [
    "ch.plot();"
   ]
  },
  {
   "cell_type": "code",
   "execution_count": null,
   "metadata": {},
   "outputs": [],
   "source": [
    "import folium\n",
    "\n",
    "center = [47.570333604, 7.59348379] \n",
    "map_ch = folium.Map(center, zoom_start=5)   \n",
    "\n",
    "folium.GeoJson(ch).add_to(map_ch)\n",
    "\n",
    "map_ch"
   ]
  },
  {
   "cell_type": "code",
   "execution_count": null,
   "metadata": {},
   "outputs": [],
   "source": [
    "import folium\n",
    "\n",
    "center = [47.570333604, 7.59348379] \n",
    "map = folium.Map(center, zoom_start=5)   \n",
    "\n",
    "folium.GeoJson(lt,style_function=lambda feature: {\n",
    "        'fillColor': 'green',   # you can also replace this with functions with feature as argument\n",
    "        'color': 'black',\n",
    "        'weight': 2,\n",
    "        'dashArray': '5, 5'\n",
    "    }).add_to(map)\n",
    "\n",
    "map"
   ]
  },
  {
   "cell_type": "markdown",
   "metadata": {},
   "source": [
    "### 5. Raster Data with rasterio\n",
    "\n"
   ]
  },
  {
   "cell_type": "code",
   "execution_count": null,
   "metadata": {},
   "outputs": [],
   "source": [
    "import rasterio\n",
    "\n",
    "dataset = rasterio.open('data/BlueMarble.tif', 'r')"
   ]
  },
  {
   "cell_type": "code",
   "execution_count": null,
   "metadata": {},
   "outputs": [],
   "source": [
    "dataset.name"
   ]
  },
  {
   "cell_type": "code",
   "execution_count": null,
   "metadata": {},
   "outputs": [],
   "source": [
    "dataset.count # number of raster bands, in our case 3 for r,g,b"
   ]
  },
  {
   "cell_type": "code",
   "execution_count": null,
   "metadata": {},
   "outputs": [],
   "source": [
    "dataset.width, dataset.height"
   ]
  },
  {
   "cell_type": "code",
   "execution_count": null,
   "metadata": {},
   "outputs": [],
   "source": [
    "dataset.crs"
   ]
  },
  {
   "cell_type": "code",
   "execution_count": null,
   "metadata": {},
   "outputs": [],
   "source": [
    "dataset.bounds"
   ]
  },
  {
   "cell_type": "code",
   "execution_count": null,
   "metadata": {},
   "outputs": [],
   "source": [
    "dataset.transform  # affine transformation pixel to crs"
   ]
  },
  {
   "cell_type": "code",
   "execution_count": null,
   "metadata": {},
   "outputs": [],
   "source": [
    "dataset.transform * (0, 0)    # Pixel to CRS"
   ]
  },
  {
   "cell_type": "code",
   "execution_count": null,
   "metadata": {},
   "outputs": [],
   "source": [
    "~dataset.transform # inverse affine transformation"
   ]
  },
  {
   "cell_type": "code",
   "execution_count": null,
   "metadata": {},
   "outputs": [],
   "source": [
    "~dataset.transform * (0,0) # CRS to Pixel"
   ]
  },
  {
   "cell_type": "code",
   "execution_count": null,
   "metadata": {},
   "outputs": [],
   "source": [
    "px, py = ~dataset.transform * (7.59348379, 47.570333604) # Our Location to Pixel (lng/lat)\n",
    "print(px,py)"
   ]
  },
  {
   "cell_type": "code",
   "execution_count": null,
   "metadata": {},
   "outputs": [],
   "source": [
    "import matplotlib.pyplot as plt\n",
    "import numpy as np"
   ]
  },
  {
   "cell_type": "code",
   "execution_count": null,
   "metadata": {},
   "outputs": [],
   "source": [
    "r = dataset.read(1)\n",
    "g = dataset.read(2)\n",
    "b = dataset.read(3)"
   ]
  },
  {
   "cell_type": "code",
   "execution_count": null,
   "metadata": {},
   "outputs": [],
   "source": [
    "rgb = np.dstack((r,g,b))  # stack r,g,b so we can display it..."
   ]
  },
  {
   "cell_type": "code",
   "execution_count": null,
   "metadata": {},
   "outputs": [],
   "source": [
    "fig, ax = plt.subplots(figsize=(15,9))\n",
    "ax.imshow(rgb, interpolation='nearest')\n",
    "ax.plot(px,py, 'ro'); "
   ]
  },
  {
   "cell_type": "markdown",
   "metadata": {},
   "source": [
    "# GeoPython Conference 2021\n",
    "\n",
    "Yes, there will be an online GeoPython 2021. April 22-23, 2021\n",
    "\n",
    "* Follow @GeoPythonConf on Twitter: http://twitter.com/GeoPythonConf\n",
    "* Register Interest: https://ti.to/pybasel/geopython-2020\n",
    "* Talk submission starts soon\n",
    "\n",
    "\n",
    "<img src=\"img/geopython2021.jpg\" width=\"50%\"/>\n"
   ]
  },
  {
   "cell_type": "code",
   "execution_count": null,
   "metadata": {},
   "outputs": [],
   "source": []
  }
 ],
 "metadata": {
  "kernelspec": {
   "display_name": "Python 3",
   "language": "python",
   "name": "python3"
  },
  "language_info": {
   "codemirror_mode": {
    "name": "ipython",
    "version": 3
   },
   "file_extension": ".py",
   "mimetype": "text/x-python",
   "name": "python",
   "nbconvert_exporter": "python",
   "pygments_lexer": "ipython3",
   "version": "3.7.7"
  }
 },
 "nbformat": 4,
 "nbformat_minor": 4
}
